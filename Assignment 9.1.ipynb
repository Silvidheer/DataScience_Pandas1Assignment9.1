{
 "cells": [
  {
   "cell_type": "code",
   "execution_count": 20,
   "metadata": {
    "collapsed": true
   },
   "outputs": [],
   "source": [
    "import numpy as np\n",
    "import pandas as pd"
   ]
  },
  {
   "cell_type": "code",
   "execution_count": 107,
   "metadata": {},
   "outputs": [
    {
     "name": "stdout",
     "output_type": "stream",
     "text": [
      "[1, 1, 0, 1, 2, 3, 4, 0, 1, 2]\n"
     ]
    }
   ],
   "source": [
    "# 1. How-to-count-distance-to-the-previous-zero\n",
    "# Output: Y: [1,1,0,1,2,3,4,0,1,2]\n",
    "df = pd.DataFrame({'X': [7, 2, 0, 3, 4, 2, 5, 0, 3, 4]})\n",
    "arrX = df['X'].values\n",
    "arrY = []\n",
    "first0 =  np.array(arrX).tolist().index(0)\n",
    "for i in range(first0+1):\n",
    "    if(arrX[i] == 0):\n",
    "        arrY.append(0)\n",
    "        length = len(np.where(arrX == 0)[0])\n",
    "        ind0 = np.where(arrX == 0)[0]\n",
    "        for n in range(length):\n",
    "            for j in range(ind0[n]+1, len(arrX)):\n",
    "                if(arrX[j] == 0):\n",
    "                    arrY.append(0)\n",
    "                    break\n",
    "                else:\n",
    "                    arrY.append(j-ind0[n])\n",
    "          \n",
    "    else:\n",
    "        arrY.append(1)\n",
    "print(arrY)"
   ]
  },
  {
   "cell_type": "code",
   "execution_count": 14,
   "metadata": {
    "collapsed": true
   },
   "outputs": [],
   "source": [
    "# 2. Create a DatetimeIndex that contains each business day of 2015 and use it to index a Series of random numbers.\n",
    "randSeries =  np.random.randint(100, 1000, 261)"
   ]
  },
  {
   "cell_type": "code",
   "execution_count": 15,
   "metadata": {},
   "outputs": [
    {
     "data": {
      "text/plain": [
       "array([391, 533, 394, 332, 823, 129, 164, 300, 935, 993, 200, 717, 681,\n",
       "       377, 432, 571, 750, 474, 982, 236, 446, 745, 787, 436, 568, 119,\n",
       "       876, 851, 585, 956, 504, 540, 483, 467, 663, 683, 332, 534, 663,\n",
       "       825, 997, 503, 518, 804, 311, 861, 444, 268, 838, 146, 645, 583,\n",
       "       141, 868, 939, 161, 292, 268, 970, 654, 291, 713, 454, 718, 616,\n",
       "       387, 743, 104, 294, 433, 618, 683, 904, 364, 508, 567, 107, 957,\n",
       "       949, 140, 159, 157, 516, 609, 605, 653, 117, 697, 528, 837, 109,\n",
       "       535, 687, 382, 830, 861, 707, 931, 720, 692, 945, 209, 957, 712,\n",
       "       225, 299, 953, 585, 264, 114, 938, 442, 940, 254, 870, 298, 768,\n",
       "       801, 563, 687, 281, 548, 314, 550, 384, 381, 749, 177, 211, 184,\n",
       "       228, 991, 683, 513, 483, 923, 538, 961, 429, 753, 338, 460, 636,\n",
       "       913, 699, 878, 494, 394, 431, 860, 395, 558, 530, 310, 698, 387,\n",
       "       181, 761, 742, 959, 929, 472, 919, 239, 961, 943, 131, 222, 664,\n",
       "       338, 255, 490, 232, 343, 822, 101, 368, 954, 117, 843, 201, 501,\n",
       "       125, 241, 458, 646, 231, 203, 361, 971, 374, 887, 216, 611, 412,\n",
       "       132, 808, 708, 887, 183, 913, 887, 311, 693, 842, 727, 347, 917,\n",
       "       735, 331, 722, 960, 442, 246, 384, 954, 105, 626, 871, 599, 748,\n",
       "       191, 755, 665, 491, 504, 310, 262, 552, 663, 950, 120, 898, 112,\n",
       "       802, 648, 643, 430, 268, 159, 368, 668, 678, 412, 533, 416, 621,\n",
       "       264, 999, 317, 572, 162, 389, 185, 236, 539, 863, 642, 829, 746, 368])"
      ]
     },
     "execution_count": 15,
     "metadata": {},
     "output_type": "execute_result"
    }
   ],
   "source": [
    "randSeries"
   ]
  },
  {
   "cell_type": "code",
   "execution_count": 16,
   "metadata": {
    "collapsed": true
   },
   "outputs": [],
   "source": [
    "bussinessDays = pd.bdate_range('2015-01-01', '2015-12-31')\n"
   ]
  },
  {
   "cell_type": "code",
   "execution_count": 17,
   "metadata": {},
   "outputs": [
    {
     "data": {
      "text/plain": [
       "DatetimeIndex(['2015-01-01', '2015-01-02', '2015-01-05', '2015-01-06',\n",
       "               '2015-01-07', '2015-01-08', '2015-01-09', '2015-01-12',\n",
       "               '2015-01-13', '2015-01-14',\n",
       "               ...\n",
       "               '2015-12-18', '2015-12-21', '2015-12-22', '2015-12-23',\n",
       "               '2015-12-24', '2015-12-25', '2015-12-28', '2015-12-29',\n",
       "               '2015-12-30', '2015-12-31'],\n",
       "              dtype='datetime64[ns]', length=261, freq='B')"
      ]
     },
     "execution_count": 17,
     "metadata": {},
     "output_type": "execute_result"
    }
   ],
   "source": [
    "bussinessDays"
   ]
  },
  {
   "cell_type": "code",
   "execution_count": 41,
   "metadata": {
    "collapsed": true
   },
   "outputs": [],
   "source": [
    "Df = pd.DataFrame(data= randSeries, index= bussinessDays)"
   ]
  },
  {
   "cell_type": "code",
   "execution_count": 42,
   "metadata": {},
   "outputs": [
    {
     "data": {
      "text/html": [
       "<div>\n",
       "<style>\n",
       "    .dataframe thead tr:only-child th {\n",
       "        text-align: right;\n",
       "    }\n",
       "\n",
       "    .dataframe thead th {\n",
       "        text-align: left;\n",
       "    }\n",
       "\n",
       "    .dataframe tbody tr th {\n",
       "        vertical-align: top;\n",
       "    }\n",
       "</style>\n",
       "<table border=\"1\" class=\"dataframe\">\n",
       "  <thead>\n",
       "    <tr style=\"text-align: right;\">\n",
       "      <th></th>\n",
       "      <th>0</th>\n",
       "    </tr>\n",
       "  </thead>\n",
       "  <tbody>\n",
       "    <tr>\n",
       "      <th>2015-01-01</th>\n",
       "      <td>391</td>\n",
       "    </tr>\n",
       "    <tr>\n",
       "      <th>2015-01-02</th>\n",
       "      <td>533</td>\n",
       "    </tr>\n",
       "    <tr>\n",
       "      <th>2015-01-05</th>\n",
       "      <td>394</td>\n",
       "    </tr>\n",
       "    <tr>\n",
       "      <th>2015-01-06</th>\n",
       "      <td>332</td>\n",
       "    </tr>\n",
       "    <tr>\n",
       "      <th>2015-01-07</th>\n",
       "      <td>823</td>\n",
       "    </tr>\n",
       "    <tr>\n",
       "      <th>2015-01-08</th>\n",
       "      <td>129</td>\n",
       "    </tr>\n",
       "  </tbody>\n",
       "</table>\n",
       "</div>"
      ],
      "text/plain": [
       "              0\n",
       "2015-01-01  391\n",
       "2015-01-02  533\n",
       "2015-01-05  394\n",
       "2015-01-06  332\n",
       "2015-01-07  823\n",
       "2015-01-08  129"
      ]
     },
     "execution_count": 42,
     "metadata": {},
     "output_type": "execute_result"
    }
   ],
   "source": [
    "Df.headad(6)"
   ]
  },
  {
   "cell_type": "code",
   "execution_count": 44,
   "metadata": {},
   "outputs": [
    {
     "name": "stdout",
     "output_type": "stream",
     "text": [
      "Sum of the values on the random Series for every Wednesday---------------\n",
      " 0    30214\n",
      "dtype: int32\n"
     ]
    }
   ],
   "source": [
    "# 3. Find the sum of the values in s for every Wednesday\n",
    "Sum = 0\n",
    "for singleDate in bussinessDays:\n",
    "    if(singleDate.dayofweek == 2):\n",
    "        Sum = Sum + Df.loc[singleDate.to_pydatetime()]\n",
    "print('Sum of the values on the random Series for every Wednesday---------------\\n',Sum)\n",
    "        "
   ]
  },
  {
   "cell_type": "code",
   "execution_count": 45,
   "metadata": {},
   "outputs": [
    {
     "name": "stdout",
     "output_type": "stream",
     "text": [
      "Average for the month January 527.5\n",
      "Average for the month February 618.6\n",
      "Average for the month March 540.318181818\n",
      "Average for the month April 503.318181818\n",
      "Average for the month May 615.857142857\n",
      "Average for the month June 505.409090909\n",
      "Average for the month July 597.47826087\n",
      "Average for the month August 541.095238095\n",
      "Average for the month September 453.909090909\n",
      "Average for the month October 601.545454545\n",
      "Average for the month November 563.80952381\n",
      "Average for the month December 488.434782609\n"
     ]
    }
   ],
   "source": [
    "# 4. Average For each calendar month\n",
    "dict1 = {1:'January',2: 'February', 3:'March', 4:'April', 5:'May', 6: 'June', 7: 'July', 8:'August', 9:'September',\n",
    "       10:'October', 11: 'November', 12:'December'}\n",
    "for i in range(1,13):\n",
    "    count = 0\n",
    "    Sum = 0\n",
    "    for singleDate in bussinessDays:\n",
    "        if(singleDate.month == i):\n",
    "            count = count + 1\n",
    "            Sum = Sum + Df.loc[singleDate.to_pydatetime()]\n",
    "    Avg = Sum/count\n",
    "    print('Average for the month',dict1[i], Avg[0])\n"
   ]
  },
  {
   "cell_type": "code",
   "execution_count": 48,
   "metadata": {},
   "outputs": [
    {
     "name": "stdout",
     "output_type": "stream",
     "text": [
      "Date on which the highest value occured for quarter 1  is : 2015-02-26 00:00:00  & the value is : 997\n",
      "Date on which the highest value occured for quarter 2  is : 2015-07-03 00:00:00  & the value is : 991\n",
      "Date on which the highest value occured for quarter 3  is : 2015-12-15 00:00:00  & the value is : 999\n"
     ]
    }
   ],
   "source": [
    "# 5. For each group of four consecutive calendar months in s, find the date on which the highest value occurred.\n",
    "arr = [1,5,9]\n",
    "for j in range(len(arr)):\n",
    "    highest = 0\n",
    "    for i in range(arr[j],arr[j]+4):\n",
    "        for singleDate in bussinessDays:\n",
    "            if(singleDate.month == i):\n",
    "                    if(Df.loc[singleDate.to_pydatetime()] > highest).bool():\n",
    "                        highest = Df.loc[singleDate.to_pydatetime()]\n",
    "                    else:\n",
    "                        highest = highest\n",
    "    print('Date on which the highest value occured for quarter', j+1,' is :' , highest.name,' & the value is :',highest.values[0])"
   ]
  },
  {
   "cell_type": "code",
   "execution_count": null,
   "metadata": {
    "collapsed": true
   },
   "outputs": [],
   "source": []
  }
 ],
 "metadata": {
  "kernelspec": {
   "display_name": "Python 3",
   "language": "python",
   "name": "python3"
  },
  "language_info": {
   "codemirror_mode": {
    "name": "ipython",
    "version": 3
   },
   "file_extension": ".py",
   "mimetype": "text/x-python",
   "name": "python",
   "nbconvert_exporter": "python",
   "pygments_lexer": "ipython3",
   "version": "3.6.3"
  }
 },
 "nbformat": 4,
 "nbformat_minor": 2
}
